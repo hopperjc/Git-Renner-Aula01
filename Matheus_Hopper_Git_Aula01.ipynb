{
  "nbformat": 4,
  "nbformat_minor": 0,
  "metadata": {
    "colab": {
      "name": "Matheus_Hopper_Git_Aula01.ipynb",
      "provenance": [],
      "authorship_tag": "ABX9TyPulODM6Y1BPTbbHEXTI2tx",
      "include_colab_link": true
    },
    "kernelspec": {
      "name": "python3",
      "display_name": "Python 3"
    },
    "language_info": {
      "name": "python"
    }
  },
  "cells": [
    {
      "cell_type": "markdown",
      "metadata": {
        "id": "view-in-github",
        "colab_type": "text"
      },
      "source": [
        "<a href=\"https://colab.research.google.com/github/hopperjc/Git-Renner-Aula01/blob/main/Matheus_Hopper_Git_Aula01.ipynb\" target=\"_parent\"><img src=\"https://colab.research.google.com/assets/colab-badge.svg\" alt=\"Open In Colab\"/></a>"
      ]
    },
    {
      "cell_type": "code",
      "execution_count": null,
      "metadata": {
        "id": "IZ5qp9_XsvLF"
      },
      "outputs": [],
      "source": [
        ""
      ]
    }
  ]
}